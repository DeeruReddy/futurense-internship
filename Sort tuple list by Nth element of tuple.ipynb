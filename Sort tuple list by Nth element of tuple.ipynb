{
 "cells": [
  {
   "cell_type": "code",
   "execution_count": 1,
   "metadata": {},
   "outputs": [
    {
     "name": "stdout",
     "output_type": "stream",
     "text": [
      "my tuples are element: [(3, 'bikes'), (1, 'cars'), (2, 'planes')]\n"
     ]
    }
   ],
   "source": [
    "# Function to sort tuple list by Nth element of tuple\n",
    "def sort_tuple_list_by_nth_element(tuple_list, n):\n",
    "    return sorted(tuple_list, key=lambda x: x[n])\n",
    "\n",
    "tuple_list = [(1, 'cars'), (3, 'bikes'), (2, 'planes')]\n",
    "n = 1 \n",
    "\n",
    "sorted_tuple_list = sort_tuple_list_by_nth_element(tuple_list, n)\n",
    "print(\"my tuples are\", \"element:\", sorted_tuple_list)\n"
   ]
  }
 ],
 "metadata": {
  "kernelspec": {
   "display_name": "Python 3",
   "language": "python",
   "name": "python3"
  },
  "language_info": {
   "codemirror_mode": {
    "name": "ipython",
    "version": 3
   },
   "file_extension": ".py",
   "mimetype": "text/x-python",
   "name": "python",
   "nbconvert_exporter": "python",
   "pygments_lexer": "ipython3",
   "version": "3.11.8"
  }
 },
 "nbformat": 4,
 "nbformat_minor": 2
}
