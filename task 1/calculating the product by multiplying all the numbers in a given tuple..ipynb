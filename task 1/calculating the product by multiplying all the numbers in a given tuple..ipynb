{
 "cells": [
  {
   "cell_type": "markdown",
   "metadata": {},
   "source": [
    "Q. Write a Python program to calculate the product, multiplying all the numbers in a given tuple.\n"
   ]
  },
  {
   "cell_type": "markdown",
   "metadata": {},
   "source": [
    "Original Tuple:\n",
    "\n",
    "(4, 3, 2, 2, -1, 18)\n",
    "\n",
    "Product - multiplying all the numbers of the said tuple: -864\n"
   ]
  },
  {
   "cell_type": "code",
   "execution_count": 1,
   "metadata": {},
   "outputs": [
    {
     "name": "stdout",
     "output_type": "stream",
     "text": [
      "(4, 3, 2, 2, -1, 18)\n",
      "Product - multiplying all the numbers of the tuple: -864\n"
     ]
    }
   ],
   "source": [
    "def calculate_product(numbers_tuple):\n",
    "    result = 1\n",
    "    for num in numbers_tuple:\n",
    "        result *= num\n",
    "    return result\n",
    "\n",
    "# User input for tuple values\n",
    "user_input = input(\"Enter numbers separated by commas: \")\n",
    "\n",
    "# Convert user input to a tuple of integers\n",
    "user_values = tuple(map(int, user_input.split(',')))\n",
    "print(user_values)\n",
    "\n",
    "product_result = calculate_product(user_values)\n",
    "\n",
    "print(f\"Product - multiplying all the numbers of the tuple: {product_result}\")"
   ]
  },
  {
   "cell_type": "markdown",
   "metadata": {},
   "source": [
    "Original Tuple:\n",
    "\n",
    "(2, 4, 8, 8, 3, 2, 9)\n",
    "\n",
    "Product - multiplying all the numbers of the said tuple: 27648\n"
   ]
  },
  {
   "cell_type": "code",
   "execution_count": 2,
   "metadata": {},
   "outputs": [
    {
     "name": "stdout",
     "output_type": "stream",
     "text": [
      "(2, 4, 8, 8, 3, 2, 9)\n",
      "Product - multiplying all the numbers of the tuple: 27648\n"
     ]
    }
   ],
   "source": [
    "def calculate_product(numbers_tuple):\n",
    "    result = 1\n",
    "    for num in numbers_tuple:\n",
    "        result *= num\n",
    "    return result\n",
    "\n",
    "# User input for tuple values\n",
    "user_input = input(\"Enter numbers separated by commas: \")\n",
    "\n",
    "# Convert user input to a tuple of integers\n",
    "user_values = tuple(map(int, user_input.split(',')))\n",
    "print(user_values)\n",
    "\n",
    "product_result = calculate_product(user_values)\n",
    "\n",
    "print(f\"Product - multiplying all the numbers of the tuple: {product_result}\")"
   ]
  }
 ],
 "metadata": {
  "kernelspec": {
   "display_name": "Python 3",
   "language": "python",
   "name": "python3"
  },
  "language_info": {
   "codemirror_mode": {
    "name": "ipython",
    "version": 3
   },
   "file_extension": ".py",
   "mimetype": "text/x-python",
   "name": "python",
   "nbconvert_exporter": "python",
   "pygments_lexer": "ipython3",
   "version": "3.11.8"
  }
 },
 "nbformat": 4,
 "nbformat_minor": 2
}
