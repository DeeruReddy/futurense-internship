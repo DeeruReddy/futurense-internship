{
 "cells": [
  {
   "cell_type": "code",
   "execution_count": 1,
   "metadata": {},
   "outputs": [
    {
     "name": "stdout",
     "output_type": "stream",
     "text": [
      "803538792.0\n"
     ]
    }
   ],
   "source": [
    "#python program to find compound interest\n",
    "p = float(input(\"Enter the principal amount: \"))\n",
    "r = float(input(\"Enter the annual interest rate (as a decimal): \"))\n",
    "t = float(input(\"Enter the investment time in years: \"))\n",
    "n = int(input(\"Enter the number of times interest is compounded per year: \"))\n",
    "\n",
    "a = p*((1)+(r/n))**(n*t)\n",
    "print(a)\n"
   ]
  },
  {
   "cell_type": "markdown",
   "metadata": {},
   "source": [
    "a = p*((1)+(r/n))**(n*t)\n",
    "\n",
    "\n",
    "a = future value of the investment/loan, including interest.\n",
    "\n",
    "p = principle amount\n",
    "\n",
    "r = rate of interest\n",
    "\n",
    "t = time period\n",
    "\n",
    "n = number of times interest is compounded"
   ]
  }
 ],
 "metadata": {
  "kernelspec": {
   "display_name": "Python 3",
   "language": "python",
   "name": "python3"
  },
  "language_info": {
   "codemirror_mode": {
    "name": "ipython",
    "version": 3
   },
   "file_extension": ".py",
   "mimetype": "text/x-python",
   "name": "python",
   "nbconvert_exporter": "python",
   "pygments_lexer": "ipython3",
   "version": "3.11.8"
  }
 },
 "nbformat": 4,
 "nbformat_minor": 2
}
