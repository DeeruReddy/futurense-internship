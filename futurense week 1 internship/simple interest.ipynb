{
 "cells": [
  {
   "cell_type": "markdown",
   "metadata": {},
   "source": [
    "Simple Interest (SI) = (p * r * t)/100\n",
    "\n",
    "\n",
    "p = principle amount\n",
    "\n",
    "r = rate of interest\n",
    "\n",
    "t = time period\n",
    "​\n"
   ]
  },
  {
   "cell_type": "code",
   "execution_count": 1,
   "metadata": {},
   "outputs": [
    {
     "name": "stdout",
     "output_type": "stream",
     "text": [
      "510.0\n"
     ]
    }
   ],
   "source": [
    "#python code to find simple interest\n",
    "p = float(input(\"Enter principle amount: \"))\n",
    "r = float(input(\"Enter rate of interest: \"))\n",
    "t = float(input(\"Enter time period: \"))\n",
    "result = (p*r*t)/100\n",
    "print(result)"
   ]
  }
 ],
 "metadata": {
  "kernelspec": {
   "display_name": "Python 3",
   "language": "python",
   "name": "python3"
  },
  "language_info": {
   "codemirror_mode": {
    "name": "ipython",
    "version": 3
   },
   "file_extension": ".py",
   "mimetype": "text/x-python",
   "name": "python",
   "nbconvert_exporter": "python",
   "pygments_lexer": "ipython3",
   "version": "3.11.8"
  }
 },
 "nbformat": 4,
 "nbformat_minor": 2
}
