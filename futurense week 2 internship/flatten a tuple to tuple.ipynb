{
 "cells": [
  {
   "cell_type": "code",
   "execution_count": 1,
   "metadata": {},
   "outputs": [
    {
     "name": "stdout",
     "output_type": "stream",
     "text": [
      "(1, 2, 3, 4, 5, 6, 7, 8)\n"
     ]
    }
   ],
   "source": [
    "def flatten_tuple_of_lists(t):\n",
    "    result = ()\n",
    "    for item in t:\n",
    "        if isinstance(item, tuple):\n",
    "            result += flatten_tuple_of_lists(item)\n",
    "        elif isinstance(item, list):\n",
    "            result += tuple(item)\n",
    "        else:\n",
    "            result += (item,)\n",
    "    return result\n",
    "\n",
    "tuple_of_lists = ([1,2,  3], [4, 5], [6, 7, 8])\n",
    "flattened_tuple = flatten_tuple_of_lists(tuple_of_lists)\n",
    "print(flattened_tuple)\n"
   ]
  }
 ],
 "metadata": {
  "kernelspec": {
   "display_name": "Python 3",
   "language": "python",
   "name": "python3"
  },
  "language_info": {
   "codemirror_mode": {
    "name": "ipython",
    "version": 3
   },
   "file_extension": ".py",
   "mimetype": "text/x-python",
   "name": "python",
   "nbconvert_exporter": "python",
   "pygments_lexer": "ipython3",
   "version": "3.11.8"
  }
 },
 "nbformat": 4,
 "nbformat_minor": 2
}
