{
 "cells": [
  {
   "cell_type": "code",
   "execution_count": 1,
   "metadata": {},
   "outputs": [
    {
     "name": "stdout",
     "output_type": "stream",
     "text": [
      "Tuple from dictionary: (('Deeraj', 1), ('Vishnu', 2), ('Sathvika', 3))\n"
     ]
    }
   ],
   "source": [
    "# Function to convert dictionary to tuple\n",
    "def dict_to_tuple(d):\n",
    "    return tuple(d.items())\n",
    "\n",
    "dictionary_example = {'Deeraj': 1, 'Vishnu': 2, 'Sathvika': 3}\n",
    "\n",
    "tuple_from_dict = dict_to_tuple(dictionary_example)\n",
    "print(\"Tuple from dictionary:\", tuple_from_dict)"
   ]
  }
 ],
 "metadata": {
  "kernelspec": {
   "display_name": "Python 3",
   "language": "python",
   "name": "python3"
  },
  "language_info": {
   "codemirror_mode": {
    "name": "ipython",
    "version": 3
   },
   "file_extension": ".py",
   "mimetype": "text/x-python",
   "name": "python",
   "nbconvert_exporter": "python",
   "pygments_lexer": "ipython3",
   "version": "3.11.8"
  }
 },
 "nbformat": 4,
 "nbformat_minor": 2
}
