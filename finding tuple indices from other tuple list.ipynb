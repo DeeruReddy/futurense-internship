{
 "cells": [
  {
   "cell_type": "code",
   "execution_count": 1,
   "metadata": {},
   "outputs": [
    {
     "name": "stdout",
     "output_type": "stream",
     "text": [
      "Indices of tuples from list1 in list2: [2, 0, -1]\n"
     ]
    }
   ],
   "source": [
    "list1 = [(1, 2), (3, 4), (5, 6)]\n",
    "list2 = [(3, 4), (7, 8), (1, 2)]\n",
    "indices = [list2.index(t) if t in list2 else -1 for t in list1]\n",
    "print(\"Indices of tuples from list1 in list2:\", indices)"
   ]
  }
 ],
 "metadata": {
  "kernelspec": {
   "display_name": "Python 3",
   "language": "python",
   "name": "python3"
  },
  "language_info": {
   "codemirror_mode": {
    "name": "ipython",
    "version": 3
   },
   "file_extension": ".py",
   "mimetype": "text/x-python",
   "name": "python",
   "nbconvert_exporter": "python",
   "pygments_lexer": "ipython3",
   "version": "3.11.8"
  }
 },
 "nbformat": 4,
 "nbformat_minor": 2
}
