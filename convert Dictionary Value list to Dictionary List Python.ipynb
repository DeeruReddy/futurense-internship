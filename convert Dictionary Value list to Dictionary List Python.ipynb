{
 "cells": [
  {
   "cell_type": "code",
   "execution_count": 1,
   "metadata": {},
   "outputs": [
    {
     "name": "stdout",
     "output_type": "stream",
     "text": [
      "[{'key1': 1, 'key2': 4, 'key3': 7}, {'key1': 2, 'key2': 5, 'key3': 8}, {'key1': 3, 'key2': 6, 'key3': 9}]\n"
     ]
    }
   ],
   "source": [
    "original_dict = {'key1': [1, 2, 3], 'key2': [4, 5, 6], 'key3': [7, 8, 9]}\n",
    "\n",
    "\n",
    "dict_list = [{key: value[i] for key, value in original_dict.items()} for i in range(len(next(iter(original_dict.values()))))]\n",
    "\n",
    "print(dict_list)"
   ]
  }
 ],
 "metadata": {
  "kernelspec": {
   "display_name": "Python 3",
   "language": "python",
   "name": "python3"
  },
  "language_info": {
   "codemirror_mode": {
    "name": "ipython",
    "version": 3
   },
   "file_extension": ".py",
   "mimetype": "text/x-python",
   "name": "python",
   "nbconvert_exporter": "python",
   "pygments_lexer": "ipython3",
   "version": "3.11.8"
  }
 },
 "nbformat": 4,
 "nbformat_minor": 2
}
