{
 "cells": [
  {
   "cell_type": "markdown",
   "metadata": {},
   "source": [
    "1. Write a python code to flatten a tuple list to tuple"
   ]
  },
  {
   "cell_type": "code",
   "execution_count": 7,
   "metadata": {},
   "outputs": [
    {
     "name": "stdout",
     "output_type": "stream",
     "text": [
      "(1, 2, 3, 4, 5, 6, 7, 8)\n"
     ]
    }
   ],
   "source": [
    "def flatten_tuple_of_lists(t):\n",
    "    result = ()\n",
    "    for item in t:\n",
    "        if isinstance(item, tuple):\n",
    "            result += flatten_tuple_of_lists(item)\n",
    "        elif isinstance(item, list):\n",
    "            result += tuple(item)\n",
    "        else:\n",
    "            result += (item,)\n",
    "    return result\n",
    "\n",
    "tuple_of_lists = ([1,2,  3], [4, 5], [6, 7, 8])\n",
    "flattened_tuple = flatten_tuple_of_lists(tuple_of_lists)\n",
    "print(flattened_tuple)\n"
   ]
  },
  {
   "cell_type": "markdown",
   "metadata": {},
   "source": [
    "2.Python program to convert set into tuple and tuple into set.\n"
   ]
  },
  {
   "cell_type": "code",
   "execution_count": 8,
   "metadata": {},
   "outputs": [
    {
     "name": "stdout",
     "output_type": "stream",
     "text": [
      "Tuple from set: (1, 2, 3, 4, 5)\n",
      "Set from tuple: {1, 2, 3, 4, 5}\n"
     ]
    }
   ],
   "source": [
    "# Function to convert set to tuple\n",
    "def set_to_tuple(s):\n",
    "    return tuple(s)\n",
    "\n",
    "def tuple_to_set(t):\n",
    "    return set(t)\n",
    "\n",
    "set_example = {1, 2, 3, 4, 5}\n",
    "tuple_example = (1, 2, 3, 4, 5)\n",
    "\n",
    "tuple_from_set = set_to_tuple(set_example)\n",
    "print(\"Tuple from set:\", tuple_from_set)\n",
    "\n",
    "set_from_tuple = tuple_to_set(tuple_example)\n",
    "print(\"Set from tuple:\", set_from_tuple)"
   ]
  },
  {
   "cell_type": "markdown",
   "metadata": {},
   "source": [
    "3.python code for dictionary to tuple"
   ]
  },
  {
   "cell_type": "code",
   "execution_count": 9,
   "metadata": {},
   "outputs": [
    {
     "name": "stdout",
     "output_type": "stream",
     "text": [
      "Tuple from dictionary: (('Deeraj', 1), ('Vishnu', 2), ('Sathvika', 3))\n"
     ]
    }
   ],
   "source": [
    "# Function to convert dictionary to tuple\n",
    "def dict_to_tuple(d):\n",
    "    return tuple(d.items())\n",
    "\n",
    "dictionary_example = {'Deeraj': 1, 'Vishnu': 2, 'Sathvika': 3}\n",
    "\n",
    "tuple_from_dict = dict_to_tuple(dictionary_example)\n",
    "print(\"Tuple from dictionary:\", tuple_from_dict)"
   ]
  },
  {
   "cell_type": "markdown",
   "metadata": {},
   "source": [
    "4.Python Sort tuple list by Nth element of tuple\n"
   ]
  },
  {
   "cell_type": "code",
   "execution_count": 13,
   "metadata": {},
   "outputs": [
    {
     "name": "stdout",
     "output_type": "stream",
     "text": [
      "my tuples are element: [(3, 'bikes'), (1, 'cars'), (2, 'planes')]\n"
     ]
    }
   ],
   "source": [
    "# Function to sort tuple list by Nth element of tuple\n",
    "def sort_tuple_list_by_nth_element(tuple_list, n):\n",
    "    return sorted(tuple_list, key=lambda x: x[n])\n",
    "\n",
    "tuple_list = [(1, 'cars'), (3, 'bikes'), (2, 'planes')]\n",
    "n = 1 \n",
    "\n",
    "sorted_tuple_list = sort_tuple_list_by_nth_element(tuple_list, n)\n",
    "print(\"my tuples are\", \"element:\", sorted_tuple_list)\n"
   ]
  },
  {
   "cell_type": "markdown",
   "metadata": {},
   "source": [
    "5. Python Program to find tuple indices from other tuple list"
   ]
  },
  {
   "cell_type": "code",
   "execution_count": 15,
   "metadata": {},
   "outputs": [
    {
     "name": "stdout",
     "output_type": "stream",
     "text": [
      "Indices of tuples from list1 in list2: [2, 0, -1]\n"
     ]
    }
   ],
   "source": [
    "list1 = [(1, 2), (3, 4), (5, 6)]\n",
    "list2 = [(3, 4), (7, 8), (1, 2)]\n",
    "indices = [list2.index(t) if t in list2 else -1 for t in list1]\n",
    "print(\"Indices of tuples from list1 in list2:\", indices)"
   ]
  },
  {
   "cell_type": "markdown",
   "metadata": {},
   "source": [
    "6. Convert Dictionary Value list to Dictionary List Python"
   ]
  },
  {
   "cell_type": "code",
   "execution_count": 16,
   "metadata": {},
   "outputs": [
    {
     "name": "stdout",
     "output_type": "stream",
     "text": [
      "[{'key1': 1, 'key2': 4, 'key3': 7}, {'key1': 2, 'key2': 5, 'key3': 8}, {'key1': 3, 'key2': 6, 'key3': 9}]\n"
     ]
    }
   ],
   "source": [
    "original_dict = {'key1': [1, 2, 3], 'key2': [4, 5, 6], 'key3': [7, 8, 9]}\n",
    "\n",
    "\n",
    "dict_list = [{key: value[i] for key, value in original_dict.items()} for i in range(len(next(iter(original_dict.values()))))]\n",
    "\n",
    "print(dict_list)"
   ]
  }
 ],
 "metadata": {
  "kernelspec": {
   "display_name": "Python 3",
   "language": "python",
   "name": "python3"
  },
  "language_info": {
   "codemirror_mode": {
    "name": "ipython",
    "version": 3
   },
   "file_extension": ".py",
   "mimetype": "text/x-python",
   "name": "python",
   "nbconvert_exporter": "python",
   "pygments_lexer": "ipython3",
   "version": "3.11.8"
  }
 },
 "nbformat": 4,
 "nbformat_minor": 2
}
