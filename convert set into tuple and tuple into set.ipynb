{
 "cells": [
  {
   "cell_type": "code",
   "execution_count": 1,
   "metadata": {},
   "outputs": [
    {
     "name": "stdout",
     "output_type": "stream",
     "text": [
      "Tuple from set: (1, 2, 3, 4, 5)\n",
      "Set from tuple: {1, 2, 3, 4, 5}\n"
     ]
    }
   ],
   "source": [
    "# Function to convert set to tuple\n",
    "def set_to_tuple(s):\n",
    "    return tuple(s)\n",
    "\n",
    "def tuple_to_set(t):\n",
    "    return set(t)\n",
    "\n",
    "set_example = {1, 2, 3, 4, 5}\n",
    "tuple_example = (1, 2, 3, 4, 5)\n",
    "\n",
    "tuple_from_set = set_to_tuple(set_example)\n",
    "print(\"Tuple from set:\", tuple_from_set)\n",
    "\n",
    "set_from_tuple = tuple_to_set(tuple_example)\n",
    "print(\"Set from tuple:\", set_from_tuple)"
   ]
  }
 ],
 "metadata": {
  "kernelspec": {
   "display_name": "Python 3",
   "language": "python",
   "name": "python3"
  },
  "language_info": {
   "codemirror_mode": {
    "name": "ipython",
    "version": 3
   },
   "file_extension": ".py",
   "mimetype": "text/x-python",
   "name": "python",
   "nbconvert_exporter": "python",
   "pygments_lexer": "ipython3",
   "version": "3.11.8"
  }
 },
 "nbformat": 4,
 "nbformat_minor": 2
}
